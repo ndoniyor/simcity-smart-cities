{
 "cells": [
  {
   "cell_type": "code",
   "execution_count": 2,
   "metadata": {},
   "outputs": [],
   "source": [
    "import pandas as pd"
   ]
  },
  {
   "cell_type": "code",
   "execution_count": 4,
   "metadata": {},
   "outputs": [],
   "source": [
    "pothole_gov_df = pd.read_csv('../../data/raw/nyc_gov_pothole.csv')"
   ]
  },
  {
   "cell_type": "code",
   "execution_count": 5,
   "metadata": {},
   "outputs": [],
   "source": [
    "pothole_311_df = pd.read_csv('../../data/raw/nyc_311_pothole.csv')"
   ]
  },
  {
   "cell_type": "code",
   "execution_count": 6,
   "metadata": {},
   "outputs": [],
   "source": [
    "import ast"
   ]
  },
  {
   "cell_type": "code",
   "execution_count": 7,
   "metadata": {},
   "outputs": [],
   "source": [
    "def calculate_average_coordinate(geometry_str):\n",
    "    geometry = ast.literal_eval(geometry_str)\n",
    "    total_lat, total_lng, count = 0,0,0\n",
    "\n",
    "    for line in geometry['coordinates']:\n",
    "        for coord_pair in line:\n",
    "            total_lng += coord_pair[0]\n",
    "            total_lat += coord_pair[1]\n",
    "            count += 1\n",
    "    centroid_lat = total_lat / count\n",
    "    centroid_lng = total_lng / count\n",
    "    \n",
    "    return centroid_lng, centroid_lat"
   ]
  },
  {
   "cell_type": "code",
   "execution_count": 8,
   "metadata": {},
   "outputs": [],
   "source": [
    "pothole_gov_df[['longitude','latitude']] = pothole_gov_df.apply(\n",
    "    lambda row: calculate_average_coordinate(row['the_geom']),\n",
    "    axis=1,\n",
    "    result_type='expand'\n",
    ")"
   ]
  },
  {
   "cell_type": "code",
   "execution_count": 9,
   "metadata": {},
   "outputs": [],
   "source": [
    "import geopandas as gpd"
   ]
  },
  {
   "cell_type": "code",
   "execution_count": 10,
   "metadata": {},
   "outputs": [],
   "source": [
    "pothole_gov_gdf = gpd.GeoDataFrame(\n",
    "    pothole_gov_df,\n",
    "    geometry=gpd.points_from_xy(pothole_gov_df.longitude, pothole_gov_df.latitude)\n",
    ")\n",
    "\n",
    "pothole_311_gdf = gpd.GeoDataFrame(\n",
    "    pothole_311_df,\n",
    "    geometry=gpd.points_from_xy(pothole_311_df.longitude, pothole_311_df.latitude)\n",
    ")"
   ]
  },
  {
   "cell_type": "code",
   "execution_count": 11,
   "metadata": {},
   "outputs": [
    {
     "name": "stderr",
     "output_type": "stream",
     "text": [
      "/Users/DonGuest/.local/lib/python3.11/site-packages/pyproj/crs/crs.py:141: FutureWarning: '+init=<authority>:<code>' syntax is deprecated. '<authority>:<code>' is the preferred initialization method. When making the change, be mindful of axis order changes: https://pyproj4.github.io/pyproj/stable/gotchas.html#axis-order-changes-in-proj-6\n",
      "  in_crs_string = _prepare_from_proj_string(in_crs_string)\n"
     ]
    }
   ],
   "source": [
    "pothole_311_gdf.crs = {\"init\": \"epsg:4326\"}\n",
    "pothole_gov_gdf.crs = {\"init\": \"epsg:4326\"}"
   ]
  },
  {
   "cell_type": "code",
   "execution_count": 12,
   "metadata": {},
   "outputs": [],
   "source": [
    "projected = \"EPSG:32618\"\n",
    "pothole_311_gdf = pothole_311_gdf.to_crs(projected)\n",
    "pothole_gov_gdf = pothole_gov_gdf.to_crs(projected)"
   ]
  },
  {
   "cell_type": "code",
   "execution_count": 13,
   "metadata": {},
   "outputs": [],
   "source": [
    "tolerance = 0.1\n",
    "spatially_joined_gdf = gpd.sjoin_nearest(\n",
    "    pothole_311_gdf, pothole_gov_gdf,\n",
    "    max_distance=tolerance, distance_col='distance'\n",
    ")"
   ]
  },
  {
   "cell_type": "code",
   "execution_count": 29,
   "metadata": {},
   "outputs": [],
   "source": [
    "spatially_joined_gdf['closed_date'] = pd.to_datetime(spatially_joined_gdf['closed_date']).dt.normalize()\n",
    "spatially_joined_gdf['RptClosed'] = pd.to_datetime(spatially_joined_gdf['RptClosed']).dt.normalize()\n",
    "\n",
    "date_matched_df = spatially_joined_gdf[spatially_joined_gdf['closed_date'] == spatially_joined_gdf['RptClosed']]\n"
   ]
  },
  {
   "cell_type": "code",
   "execution_count": 31,
   "metadata": {},
   "outputs": [],
   "source": [
    "date_matched_df.to_csv('../../data/processed/aligned_pothole.csv')"
   ]
  },
  {
   "cell_type": "code",
   "execution_count": null,
   "metadata": {},
   "outputs": [],
   "source": []
  }
 ],
 "metadata": {
  "kernelspec": {
   "display_name": "simcity",
   "language": "python",
   "name": "python3"
  },
  "language_info": {
   "codemirror_mode": {
    "name": "ipython",
    "version": 3
   },
   "file_extension": ".py",
   "mimetype": "text/x-python",
   "name": "python",
   "nbconvert_exporter": "python",
   "pygments_lexer": "ipython3",
   "version": "3.11.5"
  },
  "orig_nbformat": 4
 },
 "nbformat": 4,
 "nbformat_minor": 2
}
