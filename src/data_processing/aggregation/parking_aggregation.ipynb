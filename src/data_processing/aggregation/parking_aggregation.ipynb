{
 "cells": [
  {
   "cell_type": "code",
   "execution_count": 2,
   "metadata": {},
   "outputs": [],
   "source": [
    "import pandas as pd\n",
    "from pyspark.sql import SparkSession\n",
    "from utils.constants import Paths\n"
   ]
  },
  {
   "cell_type": "code",
   "execution_count": 2,
   "metadata": {},
   "outputs": [
    {
     "name": "stderr",
     "output_type": "stream",
     "text": [
      "23/12/04 22:33:35 WARN Utils: Your hostname, Doniyors-Laptop.local resolves to a loopback address: 127.0.0.1; using 10.1.161.85 instead (on interface en0)\n",
      "23/12/04 22:33:35 WARN Utils: Set SPARK_LOCAL_IP if you need to bind to another address\n",
      "Setting default log level to \"WARN\".\n",
      "To adjust logging level use sc.setLogLevel(newLevel). For SparkR, use setLogLevel(newLevel).\n",
      "23/12/04 22:33:36 WARN NativeCodeLoader: Unable to load native-hadoop library for your platform... using builtin-java classes where applicable\n"
     ]
    }
   ],
   "source": [
    "spark = SparkSession.builder.appName(\"SimCity Worker\").getOrCreate()"
   ]
  },
  {
   "cell_type": "code",
   "execution_count": 3,
   "metadata": {},
   "outputs": [
    {
     "name": "stderr",
     "output_type": "stream",
     "text": [
      "                                                                                \r"
     ]
    }
   ],
   "source": [
    "gov_sdf = spark.read.parquet(str(Paths.RAW_DATA_PARQUET / \"gov/parking_violations_gov.parquet\"))\n",
    "user_sdf = spark.read.parquet(str(Paths.RAW_DATA_PARQUET / \"user/parking_311.parquet\"))"
   ]
  },
  {
   "cell_type": "code",
   "execution_count": 4,
   "metadata": {},
   "outputs": [],
   "source": [
    "from pyspark.sql.functions import when, col, lit"
   ]
  },
  {
   "cell_type": "code",
   "execution_count": 5,
   "metadata": {},
   "outputs": [],
   "source": [
    "gov_sdf = gov_sdf.withColumn(\"County\",\n",
    "    when(col(\"County\").isin([\"K\", \"Kings\", \"KINGS\", \"BK\", \"BROOK\"]), \"Brooklyn\")\n",
    "    .when(col(\"County\").isin([\"Rich\", \"R\", \"ST\", \"RICH\", \"RICHM\"]), \"Staten Island\")\n",
    "    .when(col(\"County\").isin([\"Bronx\", \"BX\", \"BRONX\"]), \"Bronx\")\n",
    "    .when(col(\"County\").isin([\"MN\", \"NY\", \"MANHA\"]), \"Manhattan\")\n",
    "    .when(col(\"County\").isin([\"Q\", \"QN\", \"QNS\", \"Qns\", \"QUEEN\"]), \"Queens\")\n",
    "    .otherwise(col(\"County\")))"
   ]
  },
  {
   "cell_type": "code",
   "execution_count": 76,
   "metadata": {},
   "outputs": [
    {
     "data": {
      "text/plain": [
       "2526331"
      ]
     },
     "execution_count": 76,
     "metadata": {},
     "output_type": "execute_result"
    }
   ],
   "source": [
    "user_sdf.count()"
   ]
  },
  {
   "cell_type": "code",
   "execution_count": 77,
   "metadata": {},
   "outputs": [
    {
     "data": {
      "text/plain": [
       "36039598"
      ]
     },
     "execution_count": 77,
     "metadata": {},
     "output_type": "execute_result"
    }
   ],
   "source": [
    "gov_sdf.count()"
   ]
  },
  {
   "cell_type": "code",
   "execution_count": 6,
   "metadata": {},
   "outputs": [],
   "source": [
    "from pyspark.sql import functions as F\n",
    "from pyspark.sql.functions import date_format, to_timestamp\n",
    "\n",
    "# Extract month in 'YYYY-MM' format\n",
    "gov_sdf = gov_sdf.filter(F.year(col(\"Issue Date\")) <= 2023)\n",
    "\n",
    "user_sdf = user_sdf.withColumn('Month', date_format(to_timestamp(F.col('Created Date'), 'MM/dd/yyyy hh:mm:ss a'), 'yyyy-MM'))\n",
    "gov_sdf = gov_sdf.withColumn('Month', date_format(F.col('Issue Date'), 'yyyy-MM'))\n",
    "\n",
    "# Convert 'Borough' and 'County' to lower case\n",
    "user_sdf = user_sdf.withColumn('Borough', F.lower(F.col('Borough')))\n",
    "gov_sdf = gov_sdf.withColumn('County', F.lower(F.col('County')))\n",
    "\n",
    "# Group by 'Borough' and 'Month' in user_sdf and 'County' and 'Month' in gov_sdf\n",
    "user_complaints_by_borough_month = user_sdf.groupby(['Borough', 'Month']).count().withColumnRenamed('count', 'complaints_count')\n",
    "govt_actions_by_borough_month = gov_sdf.groupby(['County', 'Month']).count().withColumnRenamed('count', 'action_count')\n",
    "\n",
    "# Merge the two dataframes"
   ]
  },
  {
   "cell_type": "code",
   "execution_count": 7,
   "metadata": {},
   "outputs": [],
   "source": [
    "del gov_sdf\n",
    "del user_sdf"
   ]
  },
  {
   "cell_type": "code",
   "execution_count": 8,
   "metadata": {},
   "outputs": [
    {
     "name": "stderr",
     "output_type": "stream",
     "text": [
      "                                                                                \r"
     ]
    }
   ],
   "source": [
    "user_df = user_complaints_by_borough_month.toPandas()\n",
    "gov_df = govt_actions_by_borough_month.toPandas()"
   ]
  },
  {
   "cell_type": "code",
   "execution_count": 13,
   "metadata": {},
   "outputs": [],
   "source": [
    "merged_df = pd.merge(user_df, gov_df, how='outer', left_on=['Borough', 'Month'], right_on=['County', 'Month'])"
   ]
  },
  {
   "cell_type": "code",
   "execution_count": 14,
   "metadata": {},
   "outputs": [
    {
     "data": {
      "text/html": [
       "<div>\n",
       "<style scoped>\n",
       "    .dataframe tbody tr th:only-of-type {\n",
       "        vertical-align: middle;\n",
       "    }\n",
       "\n",
       "    .dataframe tbody tr th {\n",
       "        vertical-align: top;\n",
       "    }\n",
       "\n",
       "    .dataframe thead th {\n",
       "        text-align: right;\n",
       "    }\n",
       "</style>\n",
       "<table border=\"1\" class=\"dataframe\">\n",
       "  <thead>\n",
       "    <tr style=\"text-align: right;\">\n",
       "      <th></th>\n",
       "      <th>Borough</th>\n",
       "      <th>Month</th>\n",
       "      <th>complaints_count</th>\n",
       "      <th>County</th>\n",
       "      <th>action_count</th>\n",
       "    </tr>\n",
       "  </thead>\n",
       "  <tbody>\n",
       "    <tr>\n",
       "      <th>2</th>\n",
       "      <td>brooklyn</td>\n",
       "      <td>2022-03</td>\n",
       "      <td>12758.0</td>\n",
       "      <td>brooklyn</td>\n",
       "      <td>107767.0</td>\n",
       "    </tr>\n",
       "    <tr>\n",
       "      <th>3</th>\n",
       "      <td>manhattan</td>\n",
       "      <td>2022-03</td>\n",
       "      <td>5093.0</td>\n",
       "      <td>manhattan</td>\n",
       "      <td>183799.0</td>\n",
       "    </tr>\n",
       "    <tr>\n",
       "      <th>4</th>\n",
       "      <td>queens</td>\n",
       "      <td>2022-03</td>\n",
       "      <td>10164.0</td>\n",
       "      <td>queens</td>\n",
       "      <td>103435.0</td>\n",
       "    </tr>\n",
       "    <tr>\n",
       "      <th>5</th>\n",
       "      <td>bronx</td>\n",
       "      <td>2016-06</td>\n",
       "      <td>1430.0</td>\n",
       "      <td>bronx</td>\n",
       "      <td>51829.0</td>\n",
       "    </tr>\n",
       "    <tr>\n",
       "      <th>6</th>\n",
       "      <td>bronx</td>\n",
       "      <td>2018-08</td>\n",
       "      <td>1776.0</td>\n",
       "      <td>bronx</td>\n",
       "      <td>54260.0</td>\n",
       "    </tr>\n",
       "    <tr>\n",
       "      <th>...</th>\n",
       "      <td>...</td>\n",
       "      <td>...</td>\n",
       "      <td>...</td>\n",
       "      <td>...</td>\n",
       "      <td>...</td>\n",
       "    </tr>\n",
       "    <tr>\n",
       "      <th>932</th>\n",
       "      <td>manhattan</td>\n",
       "      <td>2010-11</td>\n",
       "      <td>1637.0</td>\n",
       "      <td>manhattan</td>\n",
       "      <td>187.0</td>\n",
       "    </tr>\n",
       "    <tr>\n",
       "      <th>933</th>\n",
       "      <td>manhattan</td>\n",
       "      <td>2010-12</td>\n",
       "      <td>1364.0</td>\n",
       "      <td>manhattan</td>\n",
       "      <td>168.0</td>\n",
       "    </tr>\n",
       "    <tr>\n",
       "      <th>934</th>\n",
       "      <td>manhattan</td>\n",
       "      <td>2010-10</td>\n",
       "      <td>1824.0</td>\n",
       "      <td>manhattan</td>\n",
       "      <td>223.0</td>\n",
       "    </tr>\n",
       "    <tr>\n",
       "      <th>935</th>\n",
       "      <td>staten island</td>\n",
       "      <td>2012-02</td>\n",
       "      <td>223.0</td>\n",
       "      <td>staten island</td>\n",
       "      <td>23.0</td>\n",
       "    </tr>\n",
       "    <tr>\n",
       "      <th>936</th>\n",
       "      <td>bronx</td>\n",
       "      <td>2011-11</td>\n",
       "      <td>312.0</td>\n",
       "      <td>bronx</td>\n",
       "      <td>265.0</td>\n",
       "    </tr>\n",
       "  </tbody>\n",
       "</table>\n",
       "<p>834 rows × 5 columns</p>\n",
       "</div>"
      ],
      "text/plain": [
       "           Borough    Month  complaints_count         County  action_count\n",
       "2         brooklyn  2022-03           12758.0       brooklyn      107767.0\n",
       "3        manhattan  2022-03            5093.0      manhattan      183799.0\n",
       "4           queens  2022-03           10164.0         queens      103435.0\n",
       "5            bronx  2016-06            1430.0          bronx       51829.0\n",
       "6            bronx  2018-08            1776.0          bronx       54260.0\n",
       "..             ...      ...               ...            ...           ...\n",
       "932      manhattan  2010-11            1637.0      manhattan         187.0\n",
       "933      manhattan  2010-12            1364.0      manhattan         168.0\n",
       "934      manhattan  2010-10            1824.0      manhattan         223.0\n",
       "935  staten island  2012-02             223.0  staten island          23.0\n",
       "936          bronx  2011-11             312.0          bronx         265.0\n",
       "\n",
       "[834 rows x 5 columns]"
      ]
     },
     "execution_count": 14,
     "metadata": {},
     "output_type": "execute_result"
    }
   ],
   "source": [
    "merged_df.dropna()"
   ]
  },
  {
   "cell_type": "code",
   "execution_count": 17,
   "metadata": {},
   "outputs": [],
   "source": [
    "merged_df = merged_df.drop(columns=[\"County\"])"
   ]
  },
  {
   "cell_type": "code",
   "execution_count": 18,
   "metadata": {},
   "outputs": [],
   "source": [
    "merged_df['action_delta'] = abs(merged_df['complaints_count'] - merged_df['action_count'])"
   ]
  },
  {
   "cell_type": "code",
   "execution_count": 19,
   "metadata": {},
   "outputs": [],
   "source": [
    "merged_df = merged_df.sort_values(by='action_delta', ascending=False)"
   ]
  },
  {
   "cell_type": "code",
   "execution_count": 20,
   "metadata": {},
   "outputs": [],
   "source": [
    "merged_df.to_parquet(Paths.PROCESSED_DATA_PARQUET / \"aggregated_parking.parquet\")"
   ]
  },
  {
   "cell_type": "code",
   "execution_count": 21,
   "metadata": {},
   "outputs": [],
   "source": [
    "from tabulate import tabulate\n"
   ]
  },
  {
   "cell_type": "code",
   "execution_count": 22,
   "metadata": {},
   "outputs": [
    {
     "name": "stdout",
     "output_type": "stream",
     "text": [
      "+-----------+---------+--------------------+----------------+----------------+\n",
      "| Borough   | Month   |   complaints_count |   action_count |   action_delta |\n",
      "|-----------+---------+--------------------+----------------+----------------|\n",
      "| manhattan | 2020-09 |               3256 |         212218 |         208962 |\n",
      "| manhattan | 2023-03 |               5208 |         211261 |         206053 |\n",
      "| manhattan | 2020-10 |               2998 |         206871 |         203873 |\n",
      "| manhattan | 2022-08 |               4805 |         205041 |         200236 |\n",
      "| manhattan | 2020-08 |               2644 |         202566 |         199922 |\n",
      "| manhattan | 2020-01 |               3418 |         192007 |         188589 |\n",
      "| manhattan | 2019-10 |               3874 |         190158 |         186284 |\n",
      "| manhattan | 2023-08 |               5849 |         191081 |         185232 |\n",
      "| manhattan | 2022-06 |               5916 |         190818 |         184902 |\n",
      "| manhattan | 2019-11 |               3297 |         187551 |         184254 |\n",
      "| manhattan | 2020-02 |               2638 |         186070 |         183432 |\n",
      "| manhattan | 2022-07 |               4874 |         186653 |         181779 |\n",
      "| manhattan | 2019-08 |               3519 |         182923 |         179404 |\n",
      "| manhattan | 2023-05 |               6638 |         185524 |         178886 |\n",
      "| manhattan | 2022-03 |               5093 |         183799 |         178706 |\n",
      "+-----------+---------+--------------------+----------------+----------------+\n"
     ]
    }
   ],
   "source": [
    "print(tabulate(merged_df.sort_values(by=\"action_delta\",ascending=False).head(15), headers='keys', tablefmt=\"psql\", showindex=False))\n"
   ]
  },
  {
   "cell_type": "code",
   "execution_count": 4,
   "metadata": {},
   "outputs": [],
   "source": [
    "merged_df = pd.read_parquet(Paths.PROCESSED_DATA_PARQUET / \"aggregated_parking.parquet\")"
   ]
  },
  {
   "cell_type": "code",
   "execution_count": 5,
   "metadata": {},
   "outputs": [
    {
     "data": {
      "image/png": "[encoded data removed]",
      "text/plain": [
       "<Figure size 1200x600 with 1 Axes>"
      ]
     },
     "metadata": {},
     "output_type": "display_data"
    }
   ],
   "source": [
    "import matplotlib.pyplot as plt\n",
    "\n",
    "# Extract year from 'month' for aggregation\n",
    "merged_df['year'] = pd.to_datetime(merged_df['Month'].astype(str)).dt.year\n",
    "\n",
    "# Aggregate data by year\n",
    "yearly_data = merged_df.groupby('year').agg({'complaints_count': 'sum', 'action_count': 'sum'}).reset_index()\n",
    "\n",
    "# Plotting\n",
    "plt.figure(figsize=(12, 6))\n",
    "plt.plot(yearly_data['year'], yearly_data['complaints_count'], label='Complaints')\n",
    "plt.plot(yearly_data['year'], yearly_data['action_count'], label='Government Actions')\n",
    "\n",
    "plt.xlabel('Year')\n",
    "plt.ylabel('Count')\n",
    "plt.title('Yearly Trend of Parking Complaints vs Government Actions')\n",
    "plt.legend()\n",
    "plt.xticks(yearly_data['year'], rotation=45)  # Ensure all years are displayed as x-ticks\n",
    "\n",
    "plt.show()\n",
    "\n"
   ]
  },
  {
   "cell_type": "code",
   "execution_count": null,
   "metadata": {},
   "outputs": [],
   "source": [
    "\n",
    "\n",
    "\n"
   ]
  }
 ],
 "metadata": {
  "kernelspec": {
   "display_name": "simcity_env",
   "language": "python",
   "name": "python3"
  },
  "language_info": {
   "codemirror_mode": {
    "name": "ipython",
    "version": 3
   },
   "file_extension": ".py",
   "mimetype": "text/x-python",
   "name": "python",
   "nbconvert_exporter": "python",
   "pygments_lexer": "ipython3",
   "version": "3.11.4"
  }
 },
 "nbformat": 4,
 "nbformat_minor": 2
}
