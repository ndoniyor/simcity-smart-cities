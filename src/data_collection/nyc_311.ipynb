{
 "cells": [
  {
   "cell_type": "code",
   "execution_count": 1,
   "metadata": {},
   "outputs": [],
   "source": [
    "import pandas as pd\n",
    "import sys"
   ]
  },
  {
   "cell_type": "code",
   "execution_count": 2,
   "metadata": {},
   "outputs": [],
   "source": [
    "sys.path.append('..')\n",
    "from utils.data_collector import DataCollector"
   ]
  },
  {
   "cell_type": "code",
   "execution_count": 3,
   "metadata": {},
   "outputs": [],
   "source": [
    "ENDPOINT = 'erm2-nwe9'"
   ]
  },
  {
   "cell_type": "code",
   "execution_count": 9,
   "metadata": {},
   "outputs": [],
   "source": [
    "def create_yearly_query(year):\n",
    "    start_of_year = f\"{year}-01-01T00:00:00\"\n",
    "    end_of_year = f\"{year+1}-01-01T00:00:00\"\n",
    "    query = [f\"created_date >= '{start_of_year}'\", f\"created_date < '{end_of_year}'\"]\n",
    "    return query"
   ]
  },
  {
   "cell_type": "code",
   "execution_count": 10,
   "metadata": {},
   "outputs": [],
   "source": [
    "queries = [\n",
    "    \"descriptor='Pothole'\",\n",
    "    \"resolution_description='The Department of Transportation inspected this complaint and repaired the problem.'\",\n",
    "    *create_yearly_query(2010)\n",
    "]\n",
    "\n",
    "columns = [\n",
    "    \"unique_key\",\n",
    "    \"created_date\",\n",
    "    \"closed_date\",\n",
    "    \"incident_zip\",\n",
    "    \"incident_address\",\n",
    "    \"street_name\",\n",
    "    \"cross_street_1\",\n",
    "    \"cross_street_2\",\n",
    "    \"intersection_street_1\",\n",
    "    \"intersection_street_2\",\n",
    "    \"address_type\",\n",
    "    \"city\",\n",
    "    \"resolution_action_updated_date\",\n",
    "    \"bbl\",\n",
    "    \"borough\",\n",
    "    \"x_coordinate_state_plane\",\n",
    "    \"y_coordinate_state_plane\",\n",
    "    \"park_borough\",\n",
    "    \"latitude\",\n",
    "    \"longitude\",\n",
    "    \"descriptor\"\n",
    "]"
   ]
  },
  {
   "cell_type": "code",
   "execution_count": 15,
   "metadata": {},
   "outputs": [],
   "source": [
    "collector_311 = DataCollector(endpoint=ENDPOINT)"
   ]
  },
  {
   "cell_type": "code",
   "execution_count": 13,
   "metadata": {},
   "outputs": [],
   "source": [
    "yearly_queries = []\n",
    "for year in range(2010,2023):\n",
    "    yearly_queries.append([\n",
    "    \"descriptor='Pothole'\",\n",
    "    \"resolution_description='The Department of Transportation inspected this complaint and repaired the problem.'\",\n",
    "    *create_yearly_query(year)\n",
    "])"
   ]
  },
  {
   "cell_type": "code",
   "execution_count": 17,
   "metadata": {},
   "outputs": [],
   "source": [
    "dfs = []"
   ]
  },
  {
   "cell_type": "code",
   "execution_count": 18,
   "metadata": {},
   "outputs": [
    {
     "name": "stdout",
     "output_type": "stream",
     "text": [
      "0 records\n",
      "5000 records\n",
      "10000 records\n",
      "15000 records\n",
      "20000 records\n",
      "25000 records\n",
      "30000 records\n",
      "35000 records\n",
      "40000 records\n",
      "45000 records\n",
      "50000 records\n",
      "55000 records\n",
      "0 records\n",
      "5000 records\n",
      "10000 records\n",
      "15000 records\n",
      "20000 records\n",
      "25000 records\n",
      "30000 records\n",
      "35000 records\n",
      "40000 records\n",
      "45000 records\n",
      "50000 records\n",
      "55000 records\n",
      "0 records\n",
      "5000 records\n",
      "10000 records\n",
      "15000 records\n",
      "20000 records\n",
      "25000 records\n",
      "30000 records\n",
      "35000 records\n",
      "0 records\n",
      "5000 records\n",
      "10000 records\n",
      "15000 records\n",
      "20000 records\n",
      "25000 records\n",
      "30000 records\n",
      "35000 records\n",
      "40000 records\n",
      "0 records\n",
      "5000 records\n",
      "10000 records\n",
      "15000 records\n",
      "20000 records\n",
      "25000 records\n",
      "30000 records\n",
      "35000 records\n",
      "40000 records\n",
      "45000 records\n",
      "50000 records\n",
      "55000 records\n",
      "60000 records\n",
      "0 records\n",
      "5000 records\n",
      "10000 records\n",
      "15000 records\n",
      "20000 records\n",
      "25000 records\n",
      "30000 records\n",
      "35000 records\n",
      "40000 records\n",
      "45000 records\n",
      "50000 records\n",
      "55000 records\n",
      "60000 records\n",
      "0 records\n",
      "5000 records\n",
      "10000 records\n",
      "15000 records\n",
      "20000 records\n",
      "25000 records\n",
      "30000 records\n",
      "35000 records\n",
      "40000 records\n",
      "45000 records\n",
      "0 records\n",
      "5000 records\n",
      "10000 records\n",
      "15000 records\n",
      "20000 records\n",
      "25000 records\n",
      "30000 records\n",
      "35000 records\n",
      "40000 records\n",
      "45000 records\n",
      "0 records\n",
      "5000 records\n",
      "10000 records\n",
      "15000 records\n",
      "20000 records\n",
      "25000 records\n",
      "30000 records\n",
      "35000 records\n",
      "40000 records\n",
      "45000 records\n",
      "0 records\n",
      "5000 records\n",
      "10000 records\n",
      "15000 records\n",
      "20000 records\n",
      "25000 records\n",
      "30000 records\n",
      "35000 records\n",
      "40000 records\n",
      "0 records\n",
      "5000 records\n",
      "10000 records\n",
      "15000 records\n",
      "20000 records\n",
      "25000 records\n",
      "30000 records\n",
      "0 records\n",
      "5000 records\n",
      "10000 records\n",
      "15000 records\n",
      "20000 records\n",
      "25000 records\n",
      "30000 records\n",
      "35000 records\n",
      "0 records\n",
      "5000 records\n",
      "10000 records\n",
      "15000 records\n",
      "20000 records\n",
      "25000 records\n",
      "30000 records\n",
      "35000 records\n"
     ]
    }
   ],
   "source": [
    "years = range(2010,2023)\n",
    "for query in yearly_queries:\n",
    "    collector_311.collect_data(queries=query, select=columns)\n",
    "    dfs.append(collector_311.df)\n"
   ]
  },
  {
   "cell_type": "code",
   "execution_count": 21,
   "metadata": {},
   "outputs": [],
   "source": [
    "df = pd.concat(dfs,ignore_index=True)"
   ]
  },
  {
   "cell_type": "code",
   "execution_count": 23,
   "metadata": {},
   "outputs": [],
   "source": [
    "df.to_csv('../../data/raw/nyc_311.csv')"
   ]
  },
  {
   "cell_type": "code",
   "execution_count": 24,
   "metadata": {},
   "outputs": [
    {
     "data": {
      "text/plain": [
       "691.434739112854"
      ]
     },
     "execution_count": 24,
     "metadata": {},
     "output_type": "execute_result"
    }
   ],
   "source": [
    "memory_in_bytes = df.memory_usage(deep=True).sum()  # Get memory usage in bytes\n",
    "memory_in_bytes / (1024**2)  # Convert bytes to megabytes"
   ]
  },
  {
   "cell_type": "code",
   "execution_count": null,
   "metadata": {},
   "outputs": [],
   "source": []
  }
 ],
 "metadata": {
  "kernelspec": {
   "display_name": "simcity",
   "language": "python",
   "name": "python3"
  },
  "language_info": {
   "codemirror_mode": {
    "name": "ipython",
    "version": 3
   },
   "file_extension": ".py",
   "mimetype": "text/x-python",
   "name": "python",
   "nbconvert_exporter": "python",
   "pygments_lexer": "ipython3",
   "version": "3.11.5"
  },
  "orig_nbformat": 4
 },
 "nbformat": 4,
 "nbformat_minor": 2
}
